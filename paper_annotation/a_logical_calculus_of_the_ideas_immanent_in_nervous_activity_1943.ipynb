{
 "cells": [
  {
   "cell_type": "markdown",
   "metadata": {},
   "source": [
    "# Paper Annotation: A Logical Calculus of the Ideas Immanent in Nervous Activity\n",
    "\n",
    "**Authors**: Warren McCulloch, Walter Pitts  \n",
    "**Year**: 1943  \n",
    "**Link**: [Paper URL](https://doi.org/10.1007/BF02478259)\n",
    "\n",
    "## Summary\n",
    "\n",
    "- The \"all-or-none\" neuron behavior and its propositional logic representation.\n",
    "- Nets without circles (Theorems 1–3) with temporal propositional expressions (TPEs).\n",
    "- Example from Figure 1 (e.g., basic logical operations like AND, OR).\n",
    "- Nets with circles (reverberating activity) and their equivalence to memory.\n",
    "- The heat/cold illusion example (Page 8).\n",
    "\n",
    "## Tools\n",
    "\n",
    "- Use neural-dsl syntax from README.md (e.g., Conv2D, Dense, custom layers).\n",
    "- Mathematical notation for thresholds, synaptic delays, and logical operations.\n",
    "- Comments linking DSL code to paper concepts."
   ]
  },
  {
   "cell_type": "markdown",
   "metadata": {},
   "source": [
    "1. Introuction: \"All-or-None\" Neuron Behavior (Page 1)\n",
    "\n"
   ]
  },
  {
   "cell_type": "markdown",
   "metadata": {},
   "source": []
  },
  {
   "cell_type": "markdown",
   "metadata": {},
   "source": [
    "<div style=\"display: flex; width: 100%;\">\n",
    "  <!-- Left Column: Paper Text -->\n",
    "  <div style=\"width: 50%; padding: 10px; border-right: 1px solid #ccc;\">\n",
    "    <h3>Paper: Introduction (Page 1)</h3>\n",
    "    <p>Because of the “all-or-none” character of nervous activity, neural events and the relations among\n",
    "them can be treated by means of propositional logic. It is found that the behavior of every net can\n",
    "be described in these terms, with the addition of more complicated logical means for nets\n",
    "containing circles; and that for any logical expression satisfying certain conditions, one can find a\n",
    "net behaving in the fashion it describes. It is shown that many particular choices among possible\n",
    "neurophysiological assumptions are equivalent, in the sense that for every net behaving under\n",
    "one assumption, there exists another net which behaves under the other and gives the same\n",
    "results, although perhaps not in the same time. Various applications of the calculus are\n",
    "discussed. </p>\n",
    "  </div>\n",
    "  <!-- Right Column: Annotations -->\n",
    "  <div style=\"width: 50%; padding: 10px;\">\n",
    "    <h3>Annotations</h3>\n",
    "    <p><b>Concept:</b> Neurons as binary logic units (fire = True, not fire = False).</p>\n",
    "    <p><b>Math:</b> For neuron \\( c_i \\) with inputs \\( x_1, ..., x_n \\), weights \\( w_j \\), threshold \\( \\theta_i \\):</p>\n",
    "    <p>$$ N_i(t) = \\begin{cases} 1 & \\text{if } \\sum_{j=1}^n w_j x_j(t-1) \\geq \\theta_i \\\\ 0 & \\text{otherwise} \\end{cases} $$</p>\n",
    "    <pre><code>network BasicNeuron {\n",
    "  input: (n,)  # n inputs\n",
    "  layers:\n",
    "    Dense(units=1, activation=\"step\", threshold=theta)  # Custom step function\n",
    "}</code></pre>\n",
    "    <p><b>Note:</b> Extend DSL with a `step` activation plugin: \\( f(x) = 1 \\) if \\( x \\geq \\theta \\), else 0.</p>\n",
    "  </div>\n",
    "</div>"
   ]
  }
 ],
 "metadata": {
  "kernelspec": {
   "display_name": "myenv",
   "language": "python",
   "name": "python3"
  },
  "language_info": {
   "codemirror_mode": {
    "name": "ipython",
    "version": 3
   },
   "file_extension": ".py",
   "mimetype": "text/x-python",
   "name": "python",
   "nbconvert_exporter": "python",
   "pygments_lexer": "ipython3",
   "version": "3.12.3"
  }
 },
 "nbformat": 4,
 "nbformat_minor": 4
}
